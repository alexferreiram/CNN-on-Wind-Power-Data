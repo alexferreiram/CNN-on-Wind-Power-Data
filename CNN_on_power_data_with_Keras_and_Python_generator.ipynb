{
  "nbformat": 4,
  "nbformat_minor": 0,
  "metadata": {
    "anaconda-cloud": {},
    "kernelspec": {
      "display_name": "Python [Root]",
      "language": "python",
      "name": "Python [Root]"
    },
    "language_info": {
      "codemirror_mode": {
        "name": "ipython",
        "version": 3
      },
      "file_extension": ".py",
      "mimetype": "text/x-python",
      "name": "python",
      "nbconvert_exporter": "python",
      "pygments_lexer": "ipython3",
      "version": "3.5.2"
    },
    "colab": {
      "name": "CNN_on_power_data_with_Keras_and_Python_generator.ipynb",
      "provenance": []
    }
  },
  "cells": [
    {
      "cell_type": "code",
      "metadata": {
        "id": "S-86eNpeFvS6",
        "colab_type": "code",
        "outputId": "127259b6-0b20-4834-d8a1-28e1cc0247f8",
        "colab": {
          "base_uri": "https://localhost:8080/",
          "height": 51
        }
      },
      "source": [
        "# Install tensorflow 2.x in Colab\n",
        "\n",
        "try:\n",
        "  # %tensorflow_version only exists in Colab.\n",
        "  %tensorflow_version 2.x\n",
        "except Exception:\n",
        "    pass\n",
        "  \n",
        "# Import libraries  \n",
        "from __future__ import absolute_import, division, print_function, unicode_literals\n",
        "\n",
        "#Power data classification/regression with CNN\n",
        "import numpy as np\n",
        "import tensorflow as tf\n",
        "from tensorflow import keras\n",
        "import pandas as pd\n",
        "import time as time\n",
        "import matplotlib.pyplot as plt\n",
        "import pydot\n",
        "import csv as csv\n",
        "%matplotlib inline\n",
        "print(\"TensorFlow version:\",tf.__version__)"
      ],
      "execution_count": 0,
      "outputs": [
        {
          "output_type": "stream",
          "text": [
            "TensorFlow 2.x selected.\n",
            "TensorFlow version: 2.0.0\n"
          ],
          "name": "stdout"
        }
      ]
    },
    {
      "cell_type": "code",
      "metadata": {
        "id": "1LVJJgUwGqxq",
        "colab_type": "code",
        "outputId": "f81b6735-ed82-4e8d-f3be-d36537dd7588",
        "colab": {
          "base_uri": "https://localhost:8080/",
          "height": 425
        }
      },
      "source": [
        "!wget https://raw.githubusercontent.com/alexferreiram/CNN-on-Wind-Power-Data/master/MISO_power_data_classification_labels.csv\n",
        "!wget https://raw.githubusercontent.com/alexferreiram/CNN-on-Wind-Power-Data/master/MISO_power_data_input.csv\n",
        "  \n",
        "#Read total rows in csv file without loading into memory\n",
        "def data_set_size(csv_file):\n",
        "    with open(csv_file) as csvfile:\n",
        "        csv_rows = 0\n",
        "        for _ in csvfile:\n",
        "            csv_rows += 1\n",
        "    print(\"Numer of rows in csv:\",csv_rows)\n",
        "    return csv_rows-1            #Remove header from count and return\n",
        "\n",
        "csv_file = \"./MISO_power_data_classification_labels.csv\"\n",
        "n_train = data_set_size(csv_file)\n",
        "print(\"Training data set size:\",n_train)"
      ],
      "execution_count": 0,
      "outputs": [
        {
          "output_type": "stream",
          "text": [
            "--2019-10-16 21:19:27--  https://raw.githubusercontent.com/alexferreiram/CNN-on-Wind-Power-Data/master/MISO_power_data_classification_labels.csv\n",
            "Resolving raw.githubusercontent.com (raw.githubusercontent.com)... 151.101.0.133, 151.101.64.133, 151.101.128.133, ...\n",
            "Connecting to raw.githubusercontent.com (raw.githubusercontent.com)|151.101.0.133|:443... connected.\n",
            "HTTP request sent, awaiting response... 200 OK\n",
            "Length: 119285 (116K) [text/plain]\n",
            "Saving to: ‘MISO_power_data_classification_labels.csv’\n",
            "\n",
            "MISO_power_data_cla 100%[===================>] 116.49K  --.-KB/s    in 0.02s   \n",
            "\n",
            "2019-10-16 21:19:33 (5.23 MB/s) - ‘MISO_power_data_classification_labels.csv’ saved [119285/119285]\n",
            "\n",
            "--2019-10-16 21:19:34--  https://raw.githubusercontent.com/alexferreiram/CNN-on-Wind-Power-Data/master/MISO_power_data_input.csv\n",
            "Resolving raw.githubusercontent.com (raw.githubusercontent.com)... 151.101.0.133, 151.101.64.133, 151.101.128.133, ...\n",
            "Connecting to raw.githubusercontent.com (raw.githubusercontent.com)|151.101.0.133|:443... connected.\n",
            "HTTP request sent, awaiting response... 200 OK\n",
            "Length: 892483 (872K) [text/plain]\n",
            "Saving to: ‘MISO_power_data_input.csv’\n",
            "\n",
            "MISO_power_data_inp 100%[===================>] 871.57K  --.-KB/s    in 0.04s   \n",
            "\n",
            "2019-10-16 21:19:34 (19.4 MB/s) - ‘MISO_power_data_input.csv’ saved [892483/892483]\n",
            "\n",
            "Numer of rows in csv: 1148\n",
            "Training data set size: 1147\n"
          ],
          "name": "stdout"
        }
      ]
    },
    {
      "cell_type": "code",
      "metadata": {
        "id": "9BD0lH00Grkn",
        "colab_type": "code",
        "colab": {}
      },
      "source": [
        "#Python generator to supply batches of traning data during training with loading full data set to memory\n",
        "def power_data_generator(batch_size=10,gen_type='training'):\n",
        "    valid_size = max(1,np.int(0.2*batch_size))\n",
        "    #print(valid_size)\n",
        "    while 1:\n",
        "        df_input=pd.read_csv('./MISO_power_data_input.csv',usecols =['Wind_MWh','Actual_Load_MWh'],chunksize =24*(batch_size+valid_size), iterator=True)\n",
        "        df_target=pd.read_csv('./MISO_power_data_classification_labels.csv',usecols =['LowPower','MedPower','HighPower','LowVar','MedVar','HighVar','LowWind','HighWind'],chunksize =batch_size+valid_size, iterator=True)\n",
        "  \n",
        "        for chunk, chunk2 in  zip(df_input,df_target):\n",
        "            InputX = chunk.values\n",
        "            InputX = np.resize(InputX,(batch_size+valid_size,24,2,1))\n",
        "            InputX.astype('float32', copy=False)\n",
        "            InputY = chunk2.values\n",
        "            InputY = np.resize(InputY,(batch_size+valid_size,8))\n",
        "            InputY.astype('float32', copy=False)\n",
        "            if gen_type =='training':\n",
        "                yield (InputX[0:batch_size],InputY[0:batch_size])\n",
        "            elif gen_type =='validation':\n",
        "                yield (InputX[batch_size:batch_size+valid_size],InputY[batch_size:batch_size+valid_size])\n",
        "                #yield (InputX,InputY)\n",
        "            elif gen_type =='inference':\n",
        "                yield InputX"
      ],
      "execution_count": 0,
      "outputs": []
    },
    {
      "cell_type": "code",
      "metadata": {
        "id": "oEpmcUCgGwRA",
        "colab_type": "code",
        "colab": {}
      },
      "source": [
        "train_generator= power_data_generator(batch_size=2,gen_type='training')\n",
        "valid_generator= power_data_generator(batch_size=2,gen_type='validation')\n",
        "#next(train_generator)"
      ],
      "execution_count": 0,
      "outputs": []
    },
    {
      "cell_type": "code",
      "metadata": {
        "id": "UqMzFRKSG0ow",
        "colab_type": "code",
        "outputId": "0b883b7c-a65e-4e88-c175-336b2c214b0b",
        "colab": {
          "base_uri": "https://localhost:8080/",
          "height": 425
        }
      },
      "source": [
        "#Define model using Keras\n",
        "Yclasses = 8 #Number of output classes\n",
        "\n",
        "#bias0 = tf.contrib.keras.initializers.glorot_uniform()\n",
        "#bias0 = tf.contrib.keras.initializers.RandomUniform() \n",
        "bias0 =  'zeros'\n",
        "#datagen= tf.contrib.keras.preprocessing.image.ImageDataGImageDataGenerator()\n",
        "max_power = 100000.0  #For normalizing\n",
        "\n",
        "\n",
        "model = keras.Sequential([\n",
        "    tf.keras.layers.Input(shape=(24,2,1),name='InputLayer'),                    \n",
        "    tf.keras.layers.Lambda(lambda x:x/max_power,name='Normalizing'),\n",
        "    tf.keras.layers.Conv2D(filters=4,kernel_size=(6,2),strides=(1,1),activation='relu',bias_initializer=bias0,name='ConvLayer1'),\n",
        "    tf.keras.layers.Conv2D(filters=4,kernel_size=(6,1),strides=(1,1),activation='relu',bias_initializer=bias0,name='ConvLayer2'),\n",
        "    tf.keras.layers.Conv2D(filters=4,kernel_size=(5,1),strides=(1,1),activation='relu',bias_initializer=bias0,name='ConvLayer3'),\n",
        "    tf.keras.layers.Flatten(name=\"Flatten\"),\n",
        "    tf.keras.layers.Dense(units = 8,activation='relu',bias_initializer=bias0,name='FeedForward1'),\n",
        "    tf.keras.layers.Dense(units = 8,activation='relu',bias_initializer=bias0,name='FeedForward2'),\n",
        "    tf.keras.layers.Dense(units = Yclasses,activation='sigmoid',bias_initializer=bias0,name='OutputLayer'),\n",
        "])\n",
        "\n",
        "model.compile(loss='binary_crossentropy',optimizer='adam',verbose = 2,metrics=['binary_accuracy'])\n",
        "model.summary()\n",
        "\n",
        "log_folder =\"./log/\"  \n",
        "summary = tf.keras.callbacks.TensorBoard(log_dir=log_folder,histogram_freq =1,write_graph=True)"
      ],
      "execution_count": 0,
      "outputs": [
        {
          "output_type": "stream",
          "text": [
            "Model: \"sequential\"\n",
            "_________________________________________________________________\n",
            "Layer (type)                 Output Shape              Param #   \n",
            "=================================================================\n",
            "Normalizing (Lambda)         (None, 24, 2, 1)          0         \n",
            "_________________________________________________________________\n",
            "ConvLayer1 (Conv2D)          (None, 19, 1, 4)          52        \n",
            "_________________________________________________________________\n",
            "ConvLayer2 (Conv2D)          (None, 14, 1, 4)          100       \n",
            "_________________________________________________________________\n",
            "ConvLayer3 (Conv2D)          (None, 10, 1, 4)          84        \n",
            "_________________________________________________________________\n",
            "Flatten (Flatten)            (None, 40)                0         \n",
            "_________________________________________________________________\n",
            "FeedForward1 (Dense)         (None, 8)                 328       \n",
            "_________________________________________________________________\n",
            "FeedForward2 (Dense)         (None, 8)                 72        \n",
            "_________________________________________________________________\n",
            "OutputLayer (Dense)          (None, 8)                 72        \n",
            "=================================================================\n",
            "Total params: 708\n",
            "Trainable params: 708\n",
            "Non-trainable params: 0\n",
            "_________________________________________________________________\n"
          ],
          "name": "stdout"
        }
      ]
    },
    {
      "cell_type": "code",
      "metadata": {
        "id": "qr7Qjw8tG9ID",
        "colab_type": "code",
        "outputId": "ea66463b-aae7-4d06-979f-13543c3f72c6",
        "colab": {
          "base_uri": "https://localhost:8080/",
          "height": 408
        }
      },
      "source": [
        "#tf.contrib.keras.utils.plot_model(model=model)\n",
        "samples_per_batch = 5\n",
        "train_generator= power_data_generator(batch_size=samples_per_batch,gen_type='training')\n",
        "valid_generator= power_data_generator(batch_size=samples_per_batch,gen_type='validation')\n",
        "number_of_batches = np.int32(n_train/(samples_per_batch+max(1,np.int32(0.2*samples_per_batch)))) \n",
        "#Training starts\n",
        "t = time.time()\n",
        "history = model.fit(train_generator, steps_per_epoch= number_of_batches,epochs=10,validation_data=valid_generator, validation_steps=number_of_batches,verbose=2)\n",
        "#validation_freq = 5 % para executar e imprimir a validação a cada 5 epocas\n",
        "print(\"Time: %.3f minutes\" % ((time.time() - t)/60))\n",
        "model.save('model.h5')\n",
        "print(\"Model Saved\")"
      ],
      "execution_count": 0,
      "outputs": [
        {
          "output_type": "stream",
          "text": [
            "Train for 191 steps, validate for 191 steps\n",
            "Epoch 1/10\n",
            "191/191 - 4s - loss: 0.2927 - binary_accuracy: 0.8579 - val_loss: 0.3044 - val_binary_accuracy: 0.8665\n",
            "Epoch 2/10\n",
            "191/191 - 4s - loss: 0.2940 - binary_accuracy: 0.8563 - val_loss: 0.3012 - val_binary_accuracy: 0.8658\n",
            "Epoch 3/10\n",
            "191/191 - 4s - loss: 0.2927 - binary_accuracy: 0.8577 - val_loss: 0.2957 - val_binary_accuracy: 0.8678\n",
            "Epoch 4/10\n",
            "191/191 - 4s - loss: 0.2911 - binary_accuracy: 0.8581 - val_loss: 0.2904 - val_binary_accuracy: 0.8678\n",
            "Epoch 5/10\n",
            "191/191 - 4s - loss: 0.2887 - binary_accuracy: 0.8593 - val_loss: 0.2881 - val_binary_accuracy: 0.8685\n",
            "Epoch 6/10\n",
            "191/191 - 4s - loss: 0.2873 - binary_accuracy: 0.8609 - val_loss: 0.2852 - val_binary_accuracy: 0.8704\n",
            "Epoch 7/10\n",
            "191/191 - 4s - loss: 0.2861 - binary_accuracy: 0.8607 - val_loss: 0.2727 - val_binary_accuracy: 0.8770\n",
            "Epoch 8/10\n",
            "191/191 - 4s - loss: 0.2853 - binary_accuracy: 0.8606 - val_loss: 0.2776 - val_binary_accuracy: 0.8724\n",
            "Epoch 9/10\n",
            "191/191 - 4s - loss: 0.2839 - binary_accuracy: 0.8615 - val_loss: 0.2739 - val_binary_accuracy: 0.8743\n",
            "Epoch 10/10\n",
            "191/191 - 4s - loss: 0.2832 - binary_accuracy: 0.8609 - val_loss: 0.2737 - val_binary_accuracy: 0.8737\n",
            "Time: 0.644 minutes\n",
            "Model Saved\n"
          ],
          "name": "stdout"
        }
      ]
    },
    {
      "cell_type": "code",
      "metadata": {
        "id": "SfCDTw6RaL-7",
        "colab_type": "code",
        "outputId": "b0c6ae6f-621d-4a30-983d-7d30d519d382",
        "colab": {
          "base_uri": "https://localhost:8080/",
          "height": 573
        }
      },
      "source": [
        "import matplotlib.pyplot as plt\n",
        "\n",
        "# Plot training & validation accuracy values\n",
        "plt.plot(history.history['binary_accuracy'])\n",
        "plt.plot(history.history['val_binary_accuracy'])\n",
        "plt.title('Model accuracy')\n",
        "plt.ylabel('Accuracy')\n",
        "plt.xlabel('Epoch')\n",
        "plt.legend(['Train', 'Test'], loc='upper left')\n",
        "plt.show()\n",
        "\n",
        "# Plot training & validation loss values\n",
        "plt.plot(history.history['loss'])\n",
        "plt.plot(history.history['val_loss'])\n",
        "plt.title('Model loss')\n",
        "plt.ylabel('Loss')\n",
        "plt.xlabel('Epoch')\n",
        "plt.legend(['Train', 'Test'], loc='upper left')\n",
        "plt.show()"
      ],
      "execution_count": 0,
      "outputs": [
        {
          "output_type": "display_data",
          "data": {
            "image/png": "[encoded data removed]",
            "text/plain": [
              "<Figure size 432x288 with 1 Axes>"
            ]
          },
          "metadata": {
            "tags": []
          }
        },
        {
          "output_type": "display_data",
          "data": {
            "image/png": "[encoded data removed]",
            "text/plain": [
              "<Figure size 432x288 with 1 Axes>"
            ]
          },
          "metadata": {
            "tags": []
          }
        }
      ]
    },
    {
      "cell_type": "code",
      "metadata": {
        "id": "E_fC9qdOHA78",
        "colab_type": "code",
        "colab": {}
      },
      "source": [
        "inference_generator= power_data_generator(batch_size=1,gen_type='inference')  #Generator for getting only input data"
      ],
      "execution_count": 0,
      "outputs": []
    },
    {
      "cell_type": "code",
      "metadata": {
        "id": "Dor__vCzHEEl",
        "colab_type": "code",
        "outputId": "5662f9ca-cc86-4c4c-8947-f73b82a15685",
        "colab": {
          "base_uri": "https://localhost:8080/",
          "height": 119
        }
      },
      "source": [
        "test_input = next(inference_generator)  #Get next batch of input data from data set\n",
        "model.predict_on_batch(test_input)   #Probability predictions for giving input"
      ],
      "execution_count": 0,
      "outputs": [
        {
          "output_type": "execute_result",
          "data": {
            "text/plain": [
              "<tf.Tensor: id=2311440, shape=(2, 8), dtype=float32, numpy=\n",
              "array([[9.99965191e-01, 7.41183758e-05, 0.00000000e+00, 3.28554094e-01,\n",
              "        6.92944109e-01, 0.00000000e+00, 9.99999523e-01, 5.06639481e-07],\n",
              "       [9.90789413e-01, 1.12550855e-02, 0.00000000e+00, 9.99681294e-01,\n",
              "        4.30047512e-04, 0.00000000e+00, 9.99893308e-01, 1.11430883e-04]],\n",
              "      dtype=float32)>"
            ]
          },
          "metadata": {
            "tags": []
          },
          "execution_count": 8
        }
      ]
    },
    {
      "cell_type": "code",
      "metadata": {
        "id": "slCMpF5GHGqr",
        "colab_type": "code",
        "colab": {}
      },
      "source": [
        ""
      ],
      "execution_count": 0,
      "outputs": []
    }
  ]
}